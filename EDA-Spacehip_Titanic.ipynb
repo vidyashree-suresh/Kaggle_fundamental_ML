{
 "cells": [
  {
   "cell_type": "markdown",
   "id": "5249f6a3",
   "metadata": {},
   "source": [
    "In this report, the **\"Spaceship Titanic\"** dataset is analysed, which contains information about passengers who travelled on a space cruise ship. The data includes features such as the passenger's ID, home planet, age, and the amenities they used during the journey, such as room service, spa, VR deck, and food court. The dataset also includes information about whether the passenger was transported or not.The dataset is downloaded from Kaggle competition(source:https://www.kaggle.com/competitions/spaceship-titanic/overview)\n"
   ]
  },
  {
   "cell_type": "markdown",
   "id": "3a32d533",
   "metadata": {},
   "source": [
    "Importing necessary libraries"
   ]
  },
  {
   "cell_type": "code",
   "execution_count": 399,
   "id": "45b5eb0a",
   "metadata": {},
   "outputs": [],
   "source": [
    "import numpy as np\n",
    "import pandas as pd\n",
    "import seaborn as sns\n",
    "import matplotlib as mpl\n",
    "from sklearn.preprocessing import MinMaxScaler"
   ]
  },
  {
   "cell_type": "code",
   "execution_count": 487,
   "id": "633576ff",
   "metadata": {},
   "outputs": [],
   "source": [
    "from sklearn.tree import DecisionTreeClassifier\n",
    "from sklearn.model_selection import train_test_split,ShuffleSplit\n",
    "from sklearn.metrics import confusion_matrix\n",
    "import matplotlib.pyplot as plt\n",
    "import pandas as pd\n",
    "from sklearn.impute import SimpleImputer\n",
    "from sklearn.preprocessing import OrdinalEncoder\n",
    "from sklearn.metrics import confusion_matrix, accuracy_score, precision_score, recall_score\n",
    "from sklearn import tree\n",
    "from sklearn.metrics import r2_score, mean_absolute_error\n",
    "import statsmodels.api as sm\n",
    "from sklearn.preprocessing import MinMaxScaler"
   ]
  },
  {
   "cell_type": "markdown",
   "id": "2d01a753",
   "metadata": {},
   "source": [
    "##  Describe and justify two different topics or approaches you might want to consider for this dataset and task"
   ]
  },
  {
   "cell_type": "markdown",
   "id": "a6eb0c53",
   "metadata": {},
   "source": [
    "- **Feature Engineering:**On the preliminary assessment of data, one approach that could be considered to improve the predictive accuracy is to perform feature engineering. This step involves performing missing value assessment and extracting information from existing features to create new features. For instance, we could consider extracting the group information from the passenger ID to create a new feature indicating the total number of family or friends on board. Based on the group information, missing values can be estimated.\n",
    "Moreover, the distribution across spend categories for instance food court vs VR Deck could be different or similar, and new features could be combined from them. Since there are more categorical variables than continuous ones, it is important to decide between one-hot encoding versus label fitting.\n",
    "\n",
    "\n",
    "\n",
    "- **Model Generalization:** The widely solved problem  with this dataset is of binary classification, specifically whether a passenger was transported successfully or not. While a classification tree is a reasonable choice for modeling, it may suffer from overfitting and lack of generalization. Therefore, it is recommended to explore ensemble models such as random forests or boosted trees, which have been shown to perform well in similar binary classification problems. These models can help to reduce overfitting and improve the accuracy of predictions."
   ]
  },
  {
   "cell_type": "markdown",
   "id": "70531d3d",
   "metadata": {},
   "source": [
    "## Data cleaning and preliminary analysis"
   ]
  },
  {
   "cell_type": "markdown",
   "id": "344aac6a",
   "metadata": {},
   "source": [
    "To ensure the availability of labels, the training file of the Spaceship Titanic was utilized for the remainder of the analysis."
   ]
  },
  {
   "cell_type": "code",
   "execution_count": 401,
   "id": "11a3d7c7",
   "metadata": {},
   "outputs": [],
   "source": [
    "#Reading the training dataset.The dataframe is referred to with pre-fix sp_ti\n",
    "sp_ti=pd.read_csv('train.csv')\n"
   ]
  },
  {
   "cell_type": "code",
   "execution_count": 402,
   "id": "dee4d772",
   "metadata": {},
   "outputs": [
    {
     "name": "stdout",
     "output_type": "stream",
     "text": [
      "(8693, 14)\n"
     ]
    },
    {
     "data": {
      "text/html": [
       "<div>\n",
       "<style scoped>\n",
       "    .dataframe tbody tr th:only-of-type {\n",
       "        vertical-align: middle;\n",
       "    }\n",
       "\n",
       "    .dataframe tbody tr th {\n",
       "        vertical-align: top;\n",
       "    }\n",
       "\n",
       "    .dataframe thead th {\n",
       "        text-align: right;\n",
       "    }\n",
       "</style>\n",
       "<table border=\"1\" class=\"dataframe\">\n",
       "  <thead>\n",
       "    <tr style=\"text-align: right;\">\n",
       "      <th></th>\n",
       "      <th>PassengerId</th>\n",
       "      <th>HomePlanet</th>\n",
       "      <th>CryoSleep</th>\n",
       "      <th>Cabin</th>\n",
       "      <th>Destination</th>\n",
       "      <th>Age</th>\n",
       "      <th>VIP</th>\n",
       "      <th>RoomService</th>\n",
       "      <th>FoodCourt</th>\n",
       "      <th>ShoppingMall</th>\n",
       "      <th>Spa</th>\n",
       "      <th>VRDeck</th>\n",
       "      <th>Name</th>\n",
       "      <th>Transported</th>\n",
       "    </tr>\n",
       "  </thead>\n",
       "  <tbody>\n",
       "    <tr>\n",
       "      <th>0</th>\n",
       "      <td>0001_01</td>\n",
       "      <td>Europa</td>\n",
       "      <td>False</td>\n",
       "      <td>B/0/P</td>\n",
       "      <td>TRAPPIST-1e</td>\n",
       "      <td>39.0</td>\n",
       "      <td>False</td>\n",
       "      <td>0.0</td>\n",
       "      <td>0.0</td>\n",
       "      <td>0.0</td>\n",
       "      <td>0.0</td>\n",
       "      <td>0.0</td>\n",
       "      <td>Maham Ofracculy</td>\n",
       "      <td>False</td>\n",
       "    </tr>\n",
       "    <tr>\n",
       "      <th>1</th>\n",
       "      <td>0002_01</td>\n",
       "      <td>Earth</td>\n",
       "      <td>False</td>\n",
       "      <td>F/0/S</td>\n",
       "      <td>TRAPPIST-1e</td>\n",
       "      <td>24.0</td>\n",
       "      <td>False</td>\n",
       "      <td>109.0</td>\n",
       "      <td>9.0</td>\n",
       "      <td>25.0</td>\n",
       "      <td>549.0</td>\n",
       "      <td>44.0</td>\n",
       "      <td>Juanna Vines</td>\n",
       "      <td>True</td>\n",
       "    </tr>\n",
       "  </tbody>\n",
       "</table>\n",
       "</div>"
      ],
      "text/plain": [
       "  PassengerId HomePlanet CryoSleep  Cabin  Destination   Age    VIP  \\\n",
       "0     0001_01     Europa     False  B/0/P  TRAPPIST-1e  39.0  False   \n",
       "1     0002_01      Earth     False  F/0/S  TRAPPIST-1e  24.0  False   \n",
       "\n",
       "   RoomService  FoodCourt  ShoppingMall    Spa  VRDeck             Name  \\\n",
       "0          0.0        0.0           0.0    0.0     0.0  Maham Ofracculy   \n",
       "1        109.0        9.0          25.0  549.0    44.0     Juanna Vines   \n",
       "\n",
       "   Transported  \n",
       "0        False  \n",
       "1         True  "
      ]
     },
     "execution_count": 402,
     "metadata": {},
     "output_type": "execute_result"
    }
   ],
   "source": [
    "print(sp_ti.shape) #Print the shape of the dataset\n",
    "sp_ti.head(2)"
   ]
  },
  {
   "cell_type": "code",
   "execution_count": 403,
   "id": "8f7ee42a",
   "metadata": {},
   "outputs": [
    {
     "data": {
      "text/html": [
       "<div>\n",
       "<style scoped>\n",
       "    .dataframe tbody tr th:only-of-type {\n",
       "        vertical-align: middle;\n",
       "    }\n",
       "\n",
       "    .dataframe tbody tr th {\n",
       "        vertical-align: top;\n",
       "    }\n",
       "\n",
       "    .dataframe thead th {\n",
       "        text-align: right;\n",
       "    }\n",
       "</style>\n",
       "<table border=\"1\" class=\"dataframe\">\n",
       "  <thead>\n",
       "    <tr style=\"text-align: right;\">\n",
       "      <th></th>\n",
       "      <th>Age</th>\n",
       "      <th>RoomService</th>\n",
       "      <th>FoodCourt</th>\n",
       "      <th>ShoppingMall</th>\n",
       "      <th>Spa</th>\n",
       "      <th>VRDeck</th>\n",
       "    </tr>\n",
       "  </thead>\n",
       "  <tbody>\n",
       "    <tr>\n",
       "      <th>count</th>\n",
       "      <td>8514.000000</td>\n",
       "      <td>8512.000000</td>\n",
       "      <td>8510.000000</td>\n",
       "      <td>8485.000000</td>\n",
       "      <td>8510.000000</td>\n",
       "      <td>8505.000000</td>\n",
       "    </tr>\n",
       "    <tr>\n",
       "      <th>mean</th>\n",
       "      <td>28.827930</td>\n",
       "      <td>224.687617</td>\n",
       "      <td>458.077203</td>\n",
       "      <td>173.729169</td>\n",
       "      <td>311.138778</td>\n",
       "      <td>304.854791</td>\n",
       "    </tr>\n",
       "    <tr>\n",
       "      <th>std</th>\n",
       "      <td>14.489021</td>\n",
       "      <td>666.717663</td>\n",
       "      <td>1611.489240</td>\n",
       "      <td>604.696458</td>\n",
       "      <td>1136.705535</td>\n",
       "      <td>1145.717189</td>\n",
       "    </tr>\n",
       "    <tr>\n",
       "      <th>min</th>\n",
       "      <td>0.000000</td>\n",
       "      <td>0.000000</td>\n",
       "      <td>0.000000</td>\n",
       "      <td>0.000000</td>\n",
       "      <td>0.000000</td>\n",
       "      <td>0.000000</td>\n",
       "    </tr>\n",
       "    <tr>\n",
       "      <th>25%</th>\n",
       "      <td>19.000000</td>\n",
       "      <td>0.000000</td>\n",
       "      <td>0.000000</td>\n",
       "      <td>0.000000</td>\n",
       "      <td>0.000000</td>\n",
       "      <td>0.000000</td>\n",
       "    </tr>\n",
       "    <tr>\n",
       "      <th>50%</th>\n",
       "      <td>27.000000</td>\n",
       "      <td>0.000000</td>\n",
       "      <td>0.000000</td>\n",
       "      <td>0.000000</td>\n",
       "      <td>0.000000</td>\n",
       "      <td>0.000000</td>\n",
       "    </tr>\n",
       "    <tr>\n",
       "      <th>75%</th>\n",
       "      <td>38.000000</td>\n",
       "      <td>47.000000</td>\n",
       "      <td>76.000000</td>\n",
       "      <td>27.000000</td>\n",
       "      <td>59.000000</td>\n",
       "      <td>46.000000</td>\n",
       "    </tr>\n",
       "    <tr>\n",
       "      <th>max</th>\n",
       "      <td>79.000000</td>\n",
       "      <td>14327.000000</td>\n",
       "      <td>29813.000000</td>\n",
       "      <td>23492.000000</td>\n",
       "      <td>22408.000000</td>\n",
       "      <td>24133.000000</td>\n",
       "    </tr>\n",
       "  </tbody>\n",
       "</table>\n",
       "</div>"
      ],
      "text/plain": [
       "               Age   RoomService     FoodCourt  ShoppingMall           Spa  \\\n",
       "count  8514.000000   8512.000000   8510.000000   8485.000000   8510.000000   \n",
       "mean     28.827930    224.687617    458.077203    173.729169    311.138778   \n",
       "std      14.489021    666.717663   1611.489240    604.696458   1136.705535   \n",
       "min       0.000000      0.000000      0.000000      0.000000      0.000000   \n",
       "25%      19.000000      0.000000      0.000000      0.000000      0.000000   \n",
       "50%      27.000000      0.000000      0.000000      0.000000      0.000000   \n",
       "75%      38.000000     47.000000     76.000000     27.000000     59.000000   \n",
       "max      79.000000  14327.000000  29813.000000  23492.000000  22408.000000   \n",
       "\n",
       "             VRDeck  \n",
       "count   8505.000000  \n",
       "mean     304.854791  \n",
       "std     1145.717189  \n",
       "min        0.000000  \n",
       "25%        0.000000  \n",
       "50%        0.000000  \n",
       "75%       46.000000  \n",
       "max    24133.000000  "
      ]
     },
     "execution_count": 403,
     "metadata": {},
     "output_type": "execute_result"
    }
   ],
   "source": [
    "sp_ti.describe()"
   ]
  },
  {
   "cell_type": "markdown",
   "id": "298de2f9",
   "metadata": {},
   "source": [
    "The dataset consists of 6 continuous variables, and the remaining variables are descreptive or categorical. Except for age, the other variables represent the amount spent by passengers to access different amenities."
   ]
  },
  {
   "cell_type": "code",
   "execution_count": 404,
   "id": "10b19778",
   "metadata": {},
   "outputs": [
    {
     "name": "stdout",
     "output_type": "stream",
     "text": [
      "PassengerId      object\n",
      "HomePlanet       object\n",
      "CryoSleep        object\n",
      "Cabin            object\n",
      "Destination      object\n",
      "Age             float64\n",
      "VIP              object\n",
      "RoomService     float64\n",
      "FoodCourt       float64\n",
      "ShoppingMall    float64\n",
      "Spa             float64\n",
      "VRDeck          float64\n",
      "Name             object\n",
      "Transported        bool\n",
      "dtype: object\n"
     ]
    }
   ],
   "source": [
    "print(sp_ti.dtypes)#Displaying the datatype of the columns"
   ]
  },
  {
   "cell_type": "code",
   "execution_count": 405,
   "id": "8ff1daf1",
   "metadata": {},
   "outputs": [
    {
     "data": {
      "text/html": [
       "<div>\n",
       "<style scoped>\n",
       "    .dataframe tbody tr th:only-of-type {\n",
       "        vertical-align: middle;\n",
       "    }\n",
       "\n",
       "    .dataframe tbody tr th {\n",
       "        vertical-align: top;\n",
       "    }\n",
       "\n",
       "    .dataframe thead th {\n",
       "        text-align: right;\n",
       "    }\n",
       "</style>\n",
       "<table border=\"1\" class=\"dataframe\">\n",
       "  <thead>\n",
       "    <tr style=\"text-align: right;\">\n",
       "      <th></th>\n",
       "      <th>PassengerId</th>\n",
       "      <th>HomePlanet</th>\n",
       "      <th>CryoSleep</th>\n",
       "      <th>Cabin</th>\n",
       "      <th>Destination</th>\n",
       "      <th>Age</th>\n",
       "      <th>VIP</th>\n",
       "      <th>RoomService</th>\n",
       "      <th>FoodCourt</th>\n",
       "      <th>ShoppingMall</th>\n",
       "      <th>Spa</th>\n",
       "      <th>VRDeck</th>\n",
       "      <th>Name</th>\n",
       "      <th>Transported</th>\n",
       "    </tr>\n",
       "  </thead>\n",
       "  <tbody>\n",
       "    <tr>\n",
       "      <th>0</th>\n",
       "      <td>0001_01</td>\n",
       "      <td>Europa</td>\n",
       "      <td>False</td>\n",
       "      <td>B/0/P</td>\n",
       "      <td>TRAPPIST-1e</td>\n",
       "      <td>39.0</td>\n",
       "      <td>False</td>\n",
       "      <td>0.0</td>\n",
       "      <td>0.0</td>\n",
       "      <td>0.0</td>\n",
       "      <td>0.0</td>\n",
       "      <td>0.0</td>\n",
       "      <td>Maham Ofracculy</td>\n",
       "      <td>False</td>\n",
       "    </tr>\n",
       "    <tr>\n",
       "      <th>1</th>\n",
       "      <td>0002_01</td>\n",
       "      <td>Earth</td>\n",
       "      <td>False</td>\n",
       "      <td>F/0/S</td>\n",
       "      <td>TRAPPIST-1e</td>\n",
       "      <td>24.0</td>\n",
       "      <td>False</td>\n",
       "      <td>109.0</td>\n",
       "      <td>9.0</td>\n",
       "      <td>25.0</td>\n",
       "      <td>549.0</td>\n",
       "      <td>44.0</td>\n",
       "      <td>Juanna Vines</td>\n",
       "      <td>True</td>\n",
       "    </tr>\n",
       "    <tr>\n",
       "      <th>2</th>\n",
       "      <td>0003_01</td>\n",
       "      <td>Europa</td>\n",
       "      <td>False</td>\n",
       "      <td>A/0/S</td>\n",
       "      <td>TRAPPIST-1e</td>\n",
       "      <td>58.0</td>\n",
       "      <td>True</td>\n",
       "      <td>43.0</td>\n",
       "      <td>3576.0</td>\n",
       "      <td>0.0</td>\n",
       "      <td>6715.0</td>\n",
       "      <td>49.0</td>\n",
       "      <td>Altark Susent</td>\n",
       "      <td>False</td>\n",
       "    </tr>\n",
       "  </tbody>\n",
       "</table>\n",
       "</div>"
      ],
      "text/plain": [
       "  PassengerId HomePlanet CryoSleep  Cabin  Destination   Age    VIP  \\\n",
       "0     0001_01     Europa     False  B/0/P  TRAPPIST-1e  39.0  False   \n",
       "1     0002_01      Earth     False  F/0/S  TRAPPIST-1e  24.0  False   \n",
       "2     0003_01     Europa     False  A/0/S  TRAPPIST-1e  58.0   True   \n",
       "\n",
       "   RoomService  FoodCourt  ShoppingMall     Spa  VRDeck             Name  \\\n",
       "0          0.0        0.0           0.0     0.0     0.0  Maham Ofracculy   \n",
       "1        109.0        9.0          25.0   549.0    44.0     Juanna Vines   \n",
       "2         43.0     3576.0           0.0  6715.0    49.0    Altark Susent   \n",
       "\n",
       "   Transported  \n",
       "0        False  \n",
       "1         True  \n",
       "2        False  "
      ]
     },
     "execution_count": 405,
     "metadata": {},
     "output_type": "execute_result"
    }
   ],
   "source": [
    "sp_ti.head(3) #Displaying the first few records \n"
   ]
  },
  {
   "cell_type": "code",
   "execution_count": 406,
   "id": "9eaee50a",
   "metadata": {},
   "outputs": [
    {
     "name": "stdout",
     "output_type": "stream",
     "text": [
      "PassengerId       0\n",
      "HomePlanet      201\n",
      "CryoSleep       217\n",
      "Cabin           199\n",
      "Destination     182\n",
      "Age             179\n",
      "VIP             203\n",
      "RoomService     181\n",
      "FoodCourt       183\n",
      "ShoppingMall    208\n",
      "Spa             183\n",
      "VRDeck          188\n",
      "Name            200\n",
      "Transported       0\n",
      "dtype: int64\n"
     ]
    },
    {
     "data": {
      "text/plain": [
       "2324"
      ]
     },
     "execution_count": 406,
     "metadata": {},
     "output_type": "execute_result"
    }
   ],
   "source": [
    "nan_summary = sp_ti.isna().sum() # Get the summary of NaN values by column\n",
    "\n",
    "# Print the summary\n",
    "print(nan_summary)\n",
    "nan_summary.sum() #Sum of missing values "
   ]
  },
  {
   "cell_type": "markdown",
   "id": "8cf8f483",
   "metadata": {
    "scrolled": true
   },
   "source": [
    "Most fields in the dataset have missing values, except for the Passenger ID and Transported features. To handle this, we can remove the affected records or use imputation techniques like mean, median, or regression. However, if the missing values are unevenly distributed in the dataset, it might be simpler to remove the affected records"
   ]
  },
  {
   "cell_type": "code",
   "execution_count": 407,
   "id": "cb5514ee",
   "metadata": {},
   "outputs": [
    {
     "data": {
      "text/plain": [
       "Text(0.5, 1.0, 'Heatmap of missing cases in the datset')"
      ]
     },
     "execution_count": 407,
     "metadata": {},
     "output_type": "execute_result"
    },
    {
     "data": {
      "image/png": "[encoded data removed]",
      "text/plain": [
       "<Figure size 576x216 with 2 Axes>"
      ]
     },
     "metadata": {
      "needs_background": "light"
     },
     "output_type": "display_data"
    }
   ],
   "source": [
    "plt.figure(figsize=(8,3)) # Heatmap of missing values\n",
    "sns.heatmap(sp_ti.isna().T, cmap='Blues')\n",
    "plt.title('Heatmap of missing cases in the datset')"
   ]
  },
  {
   "cell_type": "markdown",
   "id": "d3f52a96",
   "metadata": {},
   "source": [
    "Based on the heatmap above, it appears that the missing values in the dataset are distributed **randomly** rather than following a specific pattern."
   ]
  },
  {
   "cell_type": "code",
   "execution_count": 408,
   "id": "716b8779",
   "metadata": {},
   "outputs": [
    {
     "name": "stdout",
     "output_type": "stream",
     "text": [
      "Missing proportion of dataset: 0.2673415391694467\n"
     ]
    },
    {
     "data": {
      "image/png": "[encoded data removed]",
      "text/plain": [
       "<Figure size 360x216 with 1 Axes>"
      ]
     },
     "metadata": {
      "needs_background": "light"
     },
     "output_type": "display_data"
    }
   ],
   "source": [
    "#Countplot of number of missing values by the transportation status of the passengers\n",
    "print(\"Missing proportion of dataset:\",nan_summary.sum()/sp_ti.shape[0]) #proporion of dataset missing\n",
    "sp_ti['missing_val_count']=sp_ti.isna().sum(axis=1)\n",
    "plt.figure(figsize=(5,3))\n",
    "palette = {'S': 'orange', 'T': 'blue'}\n",
    "sns.countplot(data=sp_ti, x='missing_val_count', hue='Transported')\n",
    "plt.title('Number of missing entries by passenger')\n",
    "sp_ti.drop('missing_val_count', axis=1, inplace=True)\n"
   ]
  },
  {
   "cell_type": "markdown",
   "id": "2dd99a17",
   "metadata": {},
   "source": [
    "The count of missing values is consistent across both states of the \"Transported\" feature. There is approximately **27%** of the data that is missing one or more details, resulting in missing cases. Hence, removing records with NaN values will lead to significant data loss. The missing data is handled through imputation methods, as explained in the section below."
   ]
  },
  {
   "cell_type": "markdown",
   "id": "d2bc15e9",
   "metadata": {},
   "source": [
    "### Missing value treatment in the dataframe"
   ]
  },
  {
   "cell_type": "markdown",
   "id": "40b64888",
   "metadata": {},
   "source": [
    "According to the data field definitions, each Id takes the form gggg_pp where **gggg** indicates a group the passenger is travelling with and pp is their number within the group. People in a group are often family members, but not always."
   ]
  },
  {
   "cell_type": "code",
   "execution_count": 409,
   "id": "648992ae",
   "metadata": {},
   "outputs": [],
   "source": [
    " #Splitting the passesnger ID to retrieve 'gggg' and retain the first  four numbers\n",
    "sp_ti['Group'] = sp_ti['PassengerId'].apply(lambda x: x.split('_')[0]).astype(int)\n",
    "summ=sp_ti.groupby('Group').count() #Taking the count by the group\n",
    "summ = summ.sort_values(by='PassengerId', ascending=False)"
   ]
  },
  {
   "cell_type": "code",
   "execution_count": 410,
   "id": "acca711d",
   "metadata": {},
   "outputs": [
    {
     "data": {
      "text/plain": [
       "Group_size\n",
       "1    4805\n",
       "2    1682\n",
       "3    1020\n",
       "4     412\n",
       "5     265\n",
       "6     174\n",
       "7     231\n",
       "8     104\n",
       "dtype: int64"
      ]
     },
     "execution_count": 410,
     "metadata": {},
     "output_type": "execute_result"
    }
   ],
   "source": [
    "sp_ti['Group_size'] = sp_ti['Group'].map(sp_ti['Group'].value_counts()) #Display the count of group size\n",
    "sp_ti.groupby('Group_size').size()"
   ]
  },
  {
   "cell_type": "markdown",
   "id": "b68df549",
   "metadata": {},
   "source": [
    "An effective method of exploring the relationship between features is to examine their joint distribution. For instance, we can explore whether passengers from the same group are likely to come from the same home planet. While there are numerous feature combinations to consider, a few of them have been explored here."
   ]
  },
  {
   "cell_type": "code",
   "execution_count": 411,
   "id": "86038d1e",
   "metadata": {
    "scrolled": true
   },
   "outputs": [],
   "source": [
    "sp_ti['Cabin_deck'] =sp_ti['Cabin'].str.split('/', expand=True)[0].str[0] #Splitting  the cabin_deck \n",
    "#column to extract the cabin , number and side details of the assigned cabin deck.\n",
    "sp_ti[\"Num\"] = list(map(float, sp_ti[\"Cabin\"].str.split(\"/\").str[1]))\n",
    "sp_ti[\"Side\"] = sp_ti[\"Cabin\"].str.split(\"/\").str[2]\n",
    "#sp_ti = sp_ti.drop([\"Cabin\"], axis=1) #Dropping the cabin column from the dataset"
   ]
  },
  {
   "cell_type": "code",
   "execution_count": 412,
   "id": "c09f2fec",
   "metadata": {},
   "outputs": [
    {
     "data": {
      "text/plain": [
       "<AxesSubplot: xlabel='Cabin_deck', ylabel='HomePlanet'>"
      ]
     },
     "execution_count": 412,
     "metadata": {},
     "output_type": "execute_result"
    },
    {
     "data": {
      "image/png": "[encoded data removed]",
      "text/plain": [
       "<Figure size 360x216 with 2 Axes>"
      ]
     },
     "metadata": {
      "needs_background": "light"
     },
     "output_type": "display_data"
    }
   ],
   "source": [
    "#Group the dataframe by cabin deck and homeplanet to take the count of the joint occurences\n",
    "cd_hp_cnt = pd.crosstab(sp_ti['HomePlanet'], sp_ti['Cabin_deck'])\n",
    "plt.figure(figsize=(5,3))\n",
    "sns.heatmap(cd_hp_cnt, annot=True, fmt='g')# Create a heatmap of the count values"
   ]
  },
  {
   "cell_type": "markdown",
   "id": "bb285048",
   "metadata": {},
   "source": [
    "It can be concluded that passengers from Europa were on decks A, B, C, and T, while those from Earth were exclusively on deck G. Passengers from multiple planets were on decks D, E, and F. Assuming that this pattern can be extended to values missing for Homeplanet, the homeplanet values can be populated for the decks A, B, C, and T where passengers from the specific planets are hosted."
   ]
  },
  {
   "cell_type": "code",
   "execution_count": 413,
   "id": "49646f5d",
   "metadata": {},
   "outputs": [
    {
     "name": "stdout",
     "output_type": "stream",
     "text": [
      "Number of HomePlanet missing values before replacement: 201\n",
      "Number of HomePlanet missing values after: 109\n"
     ]
    }
   ],
   "source": [
    "HP_before=sp_ti['HomePlanet'].isna().sum()  #\n",
    "\n",
    "# Filter for NA cases of HomePlanet if they belong to decks A, B, C or T they came from Europa\n",
    "sp_ti.loc[(sp_ti['HomePlanet'].isna()) & (sp_ti['Cabin_deck'].isin(['A', 'B', 'C', 'T'])), 'HomePlanet']='Europa'\n",
    "\n",
    "#  Filter for NA cases of HomePlanet if they belong to decks A, B, C or T they came from Earth\n",
    "sp_ti.loc[(sp_ti['HomePlanet'].isna()) & (sp_ti['Cabin_deck']=='G'), 'HomePlanet']='Earth'\n",
    "\n",
    "# Print number of missing values left\n",
    "print('Number of HomePlanet missing values before replacement:',HP_before)\n",
    "print('Number of HomePlanet missing values after:',sp_ti['HomePlanet'].isna().sum())"
   ]
  },
  {
   "cell_type": "code",
   "execution_count": 414,
   "id": "dfbf8e0f",
   "metadata": {},
   "outputs": [
    {
     "data": {
      "text/plain": [
       "(0.0, 3500.0)"
      ]
     },
     "execution_count": 414,
     "metadata": {},
     "output_type": "execute_result"
    },
    {
     "data": {
      "image/png": "[encoded data removed]",
      "text/plain": [
       "<Figure size 360x216 with 1 Axes>"
      ]
     },
     "metadata": {
      "needs_background": "light"
     },
     "output_type": "display_data"
    }
   ],
   "source": [
    "# New feature is added to the dataframe to track passngers if they are traveling alone or in a group\n",
    "sp_ti['Single']=(sp_ti['Group_size']==1).astype(int)\n",
    "plt.figure(figsize=(5,3))\n",
    "sns.countplot(data=sp_ti, x='Single', hue='Transported')\n",
    "plt.title('Passenger is traveling alone (True/False)')\n",
    "plt.ylim([0,3500])"
   ]
  },
  {
   "cell_type": "code",
   "execution_count": 415,
   "id": "21c8d1a3",
   "metadata": {},
   "outputs": [
    {
     "name": "stdout",
     "output_type": "stream",
     "text": [
      "HomePlanet  Earth  Europa  Mars\n",
      "Group                          \n",
      "1               0       1     0\n",
      "2               1       0     0\n",
      "3               0       2     0\n"
     ]
    },
    {
     "data": {
      "text/plain": [
       "array([2], dtype=int64)"
      ]
     },
     "execution_count": 415,
     "metadata": {},
     "output_type": "execute_result"
    }
   ],
   "source": [
    "temp= pd.crosstab(sp_ti['Group'], sp_ti['HomePlanet'])  \n",
    "# Countplot of unique values\n",
    "print(temp.head(3))\n",
    "num_zeros = (temp == 0).sum(axis=1) #Taking the sum of count of zeros\n",
    "np.unique(num_zeros) "
   ]
  },
  {
   "cell_type": "markdown",
   "id": "33ee5c63",
   "metadata": {},
   "source": [
    "Passengers from the same group tend to come from the same planet as confirmed above."
   ]
  },
  {
   "cell_type": "code",
   "execution_count": 416,
   "id": "a5324909",
   "metadata": {},
   "outputs": [],
   "source": [
    "HP_before=sp_ti['HomePlanet'].isna().sum()\n",
    "\n",
    "# Passengers with missing HomePlanet and in a group where the value of HomePlanet is present for other passengers\n",
    "HP_index=sp_ti[sp_ti['HomePlanet'].isna()][(sp_ti[sp_ti['HomePlanet'].isna()]['Group']).isin(temp.index)].index\n",
    "HP_index\n",
    "# Fill corresponding missing values\n",
    "sp_ti.loc[HP_index,'HomePlanet']=sp_ti.iloc[HP_index,:]['Group'].map(lambda x: temp.idxmax(axis=1)[x])"
   ]
  },
  {
   "cell_type": "code",
   "execution_count": 417,
   "id": "435d9004",
   "metadata": {},
   "outputs": [
    {
     "name": "stdout",
     "output_type": "stream",
     "text": [
      "Number of HomePlanet missing values before replacement: 109\n",
      "Number of HomePlanet missing values after replacement: 63\n"
     ]
    }
   ],
   "source": [
    "# Print number of missing values left\n",
    "print('Number of HomePlanet missing values before replacement:',HP_before)\n",
    "print('Number of HomePlanet missing values after replacement:',sp_ti['HomePlanet'].isna().sum())"
   ]
  },
  {
   "cell_type": "code",
   "execution_count": 418,
   "id": "ffbead19",
   "metadata": {},
   "outputs": [
    {
     "data": {
      "text/plain": [
       "Earth     0.541715\n",
       "Europa    0.251217\n",
       "Mars      0.207068\n",
       "Name: HomePlanet, dtype: float64"
      ]
     },
     "execution_count": 418,
     "metadata": {},
     "output_type": "execute_result"
    }
   ],
   "source": [
    "# Calculate the proportion of HomePlanet value in the column\n",
    "prop = sp_ti['HomePlanet'].value_counts(normalize=True)\n",
    "prop"
   ]
  },
  {
   "cell_type": "markdown",
   "id": "66f7aba2",
   "metadata": {},
   "source": [
    "Analyzing the distribution of the continuous variables. The columns capturing expenditure is visibly right skewed with extreme values and the age is almost Normal with a few outlier values."
   ]
  },
  {
   "cell_type": "code",
   "execution_count": 419,
   "id": "db72f958",
   "metadata": {},
   "outputs": [
    {
     "data": {
      "image/png": "[encoded data removed]",
      "text/plain": [
       "<Figure size 576x576 with 6 Axes>"
      ]
     },
     "metadata": {
      "needs_background": "light"
     },
     "output_type": "display_data"
    }
   ],
   "source": [
    "# plot histograms of multiple columns\n",
    "sp_ti.hist(column=['RoomService', 'FoodCourt', 'VRDeck','ShoppingMall','Spa','Age'], figsize=(8, 8))\n",
    "plt.show()"
   ]
  },
  {
   "cell_type": "code",
   "execution_count": 420,
   "id": "647581ee",
   "metadata": {},
   "outputs": [
    {
     "data": {
      "text/plain": [
       "Text(0.5, 0, 'Age (years)')"
      ]
     },
     "execution_count": 420,
     "metadata": {},
     "output_type": "execute_result"
    },
    {
     "data": {
      "image/png": "[encoded data removed]",
      "text/plain": [
       "<Figure size 576x216 with 1 Axes>"
      ]
     },
     "metadata": {
      "needs_background": "light"
     },
     "output_type": "display_data"
    }
   ],
   "source": [
    "plt.figure(figsize=(8,3))\n",
    "sns.histplot(data=sp_ti, x='Age', hue='HomePlanet', binwidth=1, kde=True) ## Histogram by homeplanet\n",
    "plt.title('Age distribution by HomePlanet')\n",
    "plt.xlabel('Age (years)')"
   ]
  },
  {
   "cell_type": "markdown",
   "id": "294c3954",
   "metadata": {},
   "source": [
    "To impute the missing values in the age feature, we can take the mean value of each home planet group and use it as a replacement. The spread of age by planet shows that passengers from Earth are generally younger than those from Europa and Mars."
   ]
  },
  {
   "cell_type": "code",
   "execution_count": 421,
   "id": "e3f19731",
   "metadata": {},
   "outputs": [],
   "source": [
    "mean_age_by_planet = sp_ti.groupby('HomePlanet')['Age'].mean() # Calculate mean age by HomePlanet\n",
    "for planet, mean_age in mean_age_by_planet.items(): # Impute missing ages with mean value by Homeplanet\n",
    "    sp_ti.loc[(sp_ti['Age'].isna()) & (sp_ti['HomePlanet'] == planet), 'Age'] = mean_age"
   ]
  },
  {
   "cell_type": "markdown",
   "id": "20721340",
   "metadata": {},
   "source": [
    "The impute_func is a simple function that uses the SimpleImputer class to fill in missing values in a specified column of a given dataset. It takes in the column name, dataset, and a strategy to determine how to fill in the missing values. For the expenditure column, it is observed that most passengers don't prefer to spend, so the median value is used for imputation. However, from the plots, it can be inferred that the median values will be close to zero. In the case of the VIP, Destination and Deck features, the most frequently occurring value is used as a strategy for imputing missing values."
   ]
  },
  {
   "cell_type": "code",
   "execution_count": 422,
   "id": "0fca3a95",
   "metadata": {},
   "outputs": [],
   "source": [
    "#Function definition for value imputing\n",
    "def impute_func(col, data, strategy='mean'):\n",
    "    imp = SimpleImputer(strategy= strategy)\n",
    "    data[col] = imp.fit_transform(data[[col]])\n",
    "    dict_imp[col] = imp\n",
    "    return data[col]\n"
   ]
  },
  {
   "cell_type": "code",
   "execution_count": 423,
   "id": "df7c6bbe",
   "metadata": {},
   "outputs": [],
   "source": [
    "sp_ti['RoomService'] = impute_func('RoomService',sp_ti,strategy = 'median')\n",
    "sp_ti['FoodCourt'] = impute_func('FoodCourt',sp_ti,strategy = 'median')\n",
    "sp_ti['ShoppingMall'] = impute_func('ShoppingMall',sp_ti,strategy = 'median')\n",
    "sp_ti['Spa'] = impute_func('Spa',sp_ti,strategy = 'median')\n",
    "sp_ti['VRDeck'] = impute_func('VRDeck',sp_ti,strategy = 'median')\n",
    "sp_ti['Cabin_deck'] = impute_func('Cabin_deck',sp_ti,strategy = 'most_frequent')\n",
    "sp_ti['Side'] = impute_func('Side',sp_ti,strategy = 'most_frequent')\n",
    "sp_ti['VIP'] = impute_func('VIP',sp_ti,strategy = 'most_frequent')\n"
   ]
  },
  {
   "cell_type": "markdown",
   "id": "a4103d07",
   "metadata": {},
   "source": [
    "The total expenditure is added together to form one column total_expenditure and used as a feature in the rest of the analysis."
   ]
  },
  {
   "cell_type": "code",
   "execution_count": 424,
   "id": "d366728d",
   "metadata": {},
   "outputs": [],
   "source": [
    "sp_ti['Total_exp']=sp_ti['RoomService'] + sp_ti['Spa']+sp_ti['VRDeck']+sp_ti['FoodCourt']+sp_ti['ShoppingMall']"
   ]
  },
  {
   "cell_type": "code",
   "execution_count": 425,
   "id": "ce214968",
   "metadata": {},
   "outputs": [],
   "source": [
    "sp_ti['spend_flag']= np.where(sp_ti['Total_exp']>0,'Y','N') ## creaye"
   ]
  },
  {
   "cell_type": "markdown",
   "id": "e4346e54",
   "metadata": {},
   "source": [
    "If the cryogenic value is missing and total exp in zero then the value can be imputed as True because people who are suspended animation will not leave their cabin."
   ]
  },
  {
   "cell_type": "code",
   "execution_count": 426,
   "id": "09ed10db",
   "metadata": {},
   "outputs": [
    {
     "name": "stdout",
     "output_type": "stream",
     "text": [
      "Number of  missing values before replacement: 217\n",
      "Number of  missing values before replacement: 0\n"
     ]
    }
   ],
   "source": [
    "Cr_sl_bef=sp_ti['CryoSleep'].isna().sum()\n",
    "\n",
    "na_rows=sp_ti.loc[sp_ti['CryoSleep'].isna(),'CryoSleep'].index\n",
    "\n",
    "sp_ti.loc[sp_ti['CryoSleep'].isna(),'CryoSleep']=sp_ti.groupby(['spend_flag'])['CryoSleep']. \\\n",
    "transform(lambda x: x.fillna(pd.Series.mode(x)[0]))[na_rows]\n",
    "\n",
    "# Print number of missing values left\n",
    "print('Number of  missing values before replacement:',Cr_sl_bef)\n",
    "print('Number of  missing values before replacement:',sp_ti['CryoSleep'].isna().sum())"
   ]
  },
  {
   "cell_type": "code",
   "execution_count": 427,
   "id": "a46e7dab",
   "metadata": {},
   "outputs": [
    {
     "name": "stdout",
     "output_type": "stream",
     "text": [
      "HomePlanet      63\n",
      "Cabin          199\n",
      "Destination    182\n",
      "Name           200\n",
      "Num            199\n",
      "dtype: int64\n"
     ]
    },
    {
     "data": {
      "text/plain": [
       "843"
      ]
     },
     "execution_count": 427,
     "metadata": {},
     "output_type": "execute_result"
    }
   ],
   "source": [
    "##Displaying the missing value summary after the treatment\n",
    "nan_summary = sp_ti.isna().sum() # Get the summary of NaN values by column\n",
    "\n",
    "# Print the summary\n",
    "print(nan_summary[nan_summary>0])\n",
    "nan_summary.sum()"
   ]
  },
  {
   "cell_type": "code",
   "execution_count": 428,
   "id": "9f20229d",
   "metadata": {},
   "outputs": [
    {
     "data": {
      "text/plain": [
       "0.07201196364891292"
      ]
     },
     "execution_count": 428,
     "metadata": {},
     "output_type": "execute_result"
    }
   ],
   "source": [
    "sp_ti_wona=sp_ti.dropna()\n",
    "(sp_ti.shape[0]-sp_ti_wona.shape[0])/sp_ti.shape[0]"
   ]
  },
  {
   "cell_type": "markdown",
   "id": "3dbe83bc",
   "metadata": {},
   "source": [
    "After missing value treatment 7% of the data is removed."
   ]
  },
  {
   "cell_type": "markdown",
   "id": "8850f4da",
   "metadata": {},
   "source": [
    "## Give a ggpairs plot of what you think are the six most important variables. At least one must be categorical, and one continuous. Explain your choice of variables and the trends between them. (Mandatory)"
   ]
  },
  {
   "cell_type": "code",
   "execution_count": 429,
   "id": "236f93fd",
   "metadata": {},
   "outputs": [],
   "source": [
    "#Creating a list of \n",
    "selected_vars = ['Total_exp', 'Age','Transported','HomePlanet','Destination','Cryosleep','Cabin_deck'] "
   ]
  },
  {
   "cell_type": "code",
   "execution_count": 449,
   "id": "af7f5375",
   "metadata": {},
   "outputs": [
    {
     "data": {
      "text/plain": [
       "<seaborn.axisgrid.PairGrid at 0x1b87b49df70>"
      ]
     },
     "execution_count": 449,
     "metadata": {},
     "output_type": "execute_result"
    },
    {
     "data": {
      "image/png": "[encoded data removed]",
      "text/plain": [
       "<Figure size 368x360 with 6 Axes>"
      ]
     },
     "metadata": {
      "needs_background": "light"
     },
     "output_type": "display_data"
    }
   ],
   "source": [
    "g = sns.PairGrid(sp_ti_wona[['Total_exp', 'Age']])\n",
    "g.map_diag(sns.histplot)\n",
    "g.map_offdiag(sns.scatterplot)\n",
    "g.add_legend()"
   ]
  },
  {
   "cell_type": "markdown",
   "id": "65ebfb14",
   "metadata": {},
   "source": [
    "This pattern suggests that for lower age values, the expenditure is generally low and concentrated around a specific range. However, as age increases, the expenditure values become more spread out and diverse."
   ]
  },
  {
   "cell_type": "code",
   "execution_count": 430,
   "id": "a73558b1",
   "metadata": {
    "scrolled": true
   },
   "outputs": [
    {
     "name": "stderr",
     "output_type": "stream",
     "text": [
      "C:\\Users\\vidya\\AppData\\Local\\Temp\\ipykernel_25732\\3077067007.py:1: SettingWithCopyWarning: \n",
      "A value is trying to be set on a copy of a slice from a DataFrame.\n",
      "Try using .loc[row_indexer,col_indexer] = value instead\n",
      "\n",
      "See the caveats in the documentation: https://pandas.pydata.org/pandas-docs/stable/user_guide/indexing.html#returning-a-view-versus-a-copy\n",
      "  sp_ti_wona['Log_tot_exp']=np.log(sp_ti_wona['Total_exp']+1) #Performing log transform of the column\n"
     ]
    }
   ],
   "source": [
    "sp_ti_wona['Log_tot_exp']=np.log(sp_ti_wona['Total_exp']+1) #Performing log transform of the column"
   ]
  },
  {
   "cell_type": "code",
   "execution_count": 431,
   "id": "96ecc47d",
   "metadata": {},
   "outputs": [
    {
     "data": {
      "image/png": "[encoded data removed]",
      "text/plain": [
       "<Figure size 576x288 with 2 Axes>"
      ]
     },
     "metadata": {
      "needs_background": "light"
     },
     "output_type": "display_data"
    }
   ],
   "source": [
    "\n",
    "# Create two subplots side by side\n",
    "fig, axes = plt.subplots(1, 2, figsize=(8, 4))\n",
    "\n",
    "sns.histplot(data=sp_ti_wona, x='Log_tot_exp', hue='Transported', ax=axes[0],kde=True) ## Plot the histogram for 'Total_exp' on the first subplot\n",
    "axes[0].set_title(\"Total expenditure by Transportation status\")\n",
    "\n",
    "sns.histplot(data=sp_ti_wona, x='Age', hue='Transported', ax=axes[1],kde=True) # Plot the histogram for 'Age' on the second subplot\n",
    "axes[1].set_title(\"Age by Transportation status\")\n",
    "\n",
    "# Display the plots\n",
    "plt.tight_layout()\n",
    "plt.show()"
   ]
  },
  {
   "cell_type": "markdown",
   "id": "e4684726",
   "metadata": {},
   "source": [
    "- Most people spend close to zero\n",
    "- Logarith transformed distribution is plotted as observed it decays slowly\n",
    "- Successfully transported passengers have spent less\n",
    "- From the age plot, it can be observed that the younger you are, the more likely you are to be transported successfully"
   ]
  },
  {
   "cell_type": "code",
   "execution_count": 432,
   "id": "4556282f",
   "metadata": {},
   "outputs": [
    {
     "data": {
      "image/png": "[encoded data removed]",
      "text/plain": [
       "<Figure size 576x288 with 2 Axes>"
      ]
     },
     "metadata": {
      "needs_background": "light"
     },
     "output_type": "display_data"
    }
   ],
   "source": [
    "\n",
    "# Create two subplots side by side\n",
    "fig, axes = plt.subplots(1, 2, figsize=(8, 4))\n",
    "\n",
    "# Plot the histogram for 'Total_exp' on the first subplot\n",
    "sns.histplot(data=sp_ti_wona, x='Log_tot_exp', hue='HomePlanet', ax=axes[0],kde=True)\n",
    "axes[0].set_title(\"Total expenditure by  HomePlanet\")\n",
    "\n",
    "# Plot the histogram for 'Age' on the second subplot\n",
    "sns.histplot(data=sp_ti_wona, x='Age', hue='HomePlanet', ax=axes[1],kde=True)\n",
    "axes[1].set_title(\"Age by HomePlanet\")\n",
    "\n",
    "# Display the plots\n",
    "plt.tight_layout()\n",
    "plt.show()"
   ]
  },
  {
   "cell_type": "markdown",
   "id": "f68f6489",
   "metadata": {},
   "source": [
    "- The expenditure curve shows that passengers from Europa are either high spenders or low spenders\n",
    "- The expenditure pattern for passengers from Earth ranges from low to medium\n",
    "- As noted in the previous section, passengers from Earth tend to be younger than Europa or Mars"
   ]
  },
  {
   "cell_type": "code",
   "execution_count": 445,
   "id": "175e766f",
   "metadata": {},
   "outputs": [
    {
     "data": {
      "text/plain": [
       "Text(0.5, 1.0, 'Total expenditure by  Cabin Deck')"
      ]
     },
     "execution_count": 445,
     "metadata": {},
     "output_type": "execute_result"
    },
    {
     "data": {
      "image/png": "[encoded data removed]",
      "text/plain": [
       "<Figure size 576x216 with 1 Axes>"
      ]
     },
     "metadata": {
      "needs_background": "light"
     },
     "output_type": "display_data"
    }
   ],
   "source": [
    "\n",
    "# Create two subplots side by side\n",
    "fig, axes = plt.subplots(1, 1, figsize=(8, 3))\n",
    "palette = {'A': '#4c72b0', 'B': '#55a868', 'C': '#c44e52', 'D': '#8172b2', 'E': '#ccb974', 'F': '#64b5cd', 'G': '#6e6e6e','T':'#d773c7'}\n",
    "\n",
    "# Plot the histogram for 'Total_exp' on the first subplot\n",
    "sns.histplot(data=sp_ti_wona, x='Log_tot_exp', hue='Cabin_deck', ax=axes,kde=True,palette=palette)\n",
    "axes.set_title(\"Total expenditure by  Cabin Deck\")\n"
   ]
  },
  {
   "cell_type": "code",
   "execution_count": 446,
   "id": "08831ba5",
   "metadata": {
    "scrolled": false
   },
   "outputs": [
    {
     "data": {
      "text/plain": [
       "<Figure size 216x216 with 0 Axes>"
      ]
     },
     "execution_count": 446,
     "metadata": {},
     "output_type": "execute_result"
    },
    {
     "data": {
      "image/png": "[encoded data removed]",
      "text/plain": [
       "<Figure size 432x288 with 1 Axes>"
      ]
     },
     "metadata": {
      "needs_background": "light"
     },
     "output_type": "display_data"
    },
    {
     "data": {
      "text/plain": [
       "<Figure size 216x216 with 0 Axes>"
      ]
     },
     "metadata": {},
     "output_type": "display_data"
    }
   ],
   "source": [
    "#sns.countplot(data=sp_ti_wona, x='CryoSleep', hue='HomePlanet')\n",
    "sns.countplot(data=sp_ti_wona, x='Destination', hue='CryoSleep')\n",
    "plt.figure(figsize=(3,3))\n"
   ]
  },
  {
   "cell_type": "markdown",
   "id": "909b942b",
   "metadata": {},
   "source": [
    "- It can be observed that the proportion of people who elected to be put into suspended animation for the duration of the voyage is 50%-50% in the case of the \"PSO\" destination.\n",
    "- In the case of the TRAPPIST destination, the majority of passengers did not elect to undergo cryosleeping."
   ]
  },
  {
   "cell_type": "markdown",
   "id": "f631277a",
   "metadata": {},
   "source": [
    "## Build a classification tree of one of the six variables from the last part as a function of the other five, and any other explanatory variables you think are necessary. Show code, explain reasoning, and show the tree as a simple (ugly) plot. Show the confusion matrix. Give two example predictions and follow them down the tree."
   ]
  },
  {
   "cell_type": "markdown",
   "id": "1893ab46",
   "metadata": {},
   "source": [
    "The model will use 'Transport' as the target variable and 'Total_exp', 'Age', 'HomePlanet', 'Destination', 'CryoSleep', and 'Cabin_deck' as explanatory variables.The categorical variables are converted into one-hot encoded features to be used as input for the classifier model."
   ]
  },
  {
   "cell_type": "code",
   "execution_count": 436,
   "id": "6f9a6801",
   "metadata": {
    "scrolled": true
   },
   "outputs": [
    {
     "data": {
      "text/plain": [
       "Transported\n",
       "False    4004\n",
       "True     4063\n",
       "dtype: int64"
      ]
     },
     "execution_count": 436,
     "metadata": {},
     "output_type": "execute_result"
    }
   ],
   "source": [
    "sp_ti_wona.groupby('Transported').size() "
   ]
  },
  {
   "cell_type": "markdown",
   "id": "e6ca08c3",
   "metadata": {},
   "source": [
    "The classes of binary indicator Transportation is balanced. "
   ]
  },
  {
   "cell_type": "code",
   "execution_count": 437,
   "id": "255f8da7",
   "metadata": {},
   "outputs": [
    {
     "data": {
      "text/html": [
       "<div>\n",
       "<style scoped>\n",
       "    .dataframe tbody tr th:only-of-type {\n",
       "        vertical-align: middle;\n",
       "    }\n",
       "\n",
       "    .dataframe tbody tr th {\n",
       "        vertical-align: top;\n",
       "    }\n",
       "\n",
       "    .dataframe thead th {\n",
       "        text-align: right;\n",
       "    }\n",
       "</style>\n",
       "<table border=\"1\" class=\"dataframe\">\n",
       "  <thead>\n",
       "    <tr style=\"text-align: right;\">\n",
       "      <th></th>\n",
       "      <th>Total_exp</th>\n",
       "      <th>Age</th>\n",
       "      <th>Destination_55 Cancri e</th>\n",
       "      <th>Destination_PSO J318.5-22</th>\n",
       "      <th>Destination_TRAPPIST-1e</th>\n",
       "      <th>HomePlanet_Earth</th>\n",
       "      <th>HomePlanet_Europa</th>\n",
       "      <th>HomePlanet_Mars</th>\n",
       "      <th>CryoSleep_False</th>\n",
       "      <th>CryoSleep_True</th>\n",
       "      <th>Cabin_deck_A</th>\n",
       "      <th>Cabin_deck_B</th>\n",
       "      <th>Cabin_deck_C</th>\n",
       "      <th>Cabin_deck_D</th>\n",
       "      <th>Cabin_deck_E</th>\n",
       "      <th>Cabin_deck_F</th>\n",
       "      <th>Cabin_deck_G</th>\n",
       "      <th>Cabin_deck_T</th>\n",
       "    </tr>\n",
       "  </thead>\n",
       "  <tbody>\n",
       "    <tr>\n",
       "      <th>0</th>\n",
       "      <td>0.0</td>\n",
       "      <td>39.0</td>\n",
       "      <td>0</td>\n",
       "      <td>0</td>\n",
       "      <td>1</td>\n",
       "      <td>0</td>\n",
       "      <td>1</td>\n",
       "      <td>0</td>\n",
       "      <td>1</td>\n",
       "      <td>0</td>\n",
       "      <td>0</td>\n",
       "      <td>1</td>\n",
       "      <td>0</td>\n",
       "      <td>0</td>\n",
       "      <td>0</td>\n",
       "      <td>0</td>\n",
       "      <td>0</td>\n",
       "      <td>0</td>\n",
       "    </tr>\n",
       "    <tr>\n",
       "      <th>1</th>\n",
       "      <td>736.0</td>\n",
       "      <td>24.0</td>\n",
       "      <td>0</td>\n",
       "      <td>0</td>\n",
       "      <td>1</td>\n",
       "      <td>1</td>\n",
       "      <td>0</td>\n",
       "      <td>0</td>\n",
       "      <td>1</td>\n",
       "      <td>0</td>\n",
       "      <td>0</td>\n",
       "      <td>0</td>\n",
       "      <td>0</td>\n",
       "      <td>0</td>\n",
       "      <td>0</td>\n",
       "      <td>1</td>\n",
       "      <td>0</td>\n",
       "      <td>0</td>\n",
       "    </tr>\n",
       "    <tr>\n",
       "      <th>2</th>\n",
       "      <td>10383.0</td>\n",
       "      <td>58.0</td>\n",
       "      <td>0</td>\n",
       "      <td>0</td>\n",
       "      <td>1</td>\n",
       "      <td>0</td>\n",
       "      <td>1</td>\n",
       "      <td>0</td>\n",
       "      <td>1</td>\n",
       "      <td>0</td>\n",
       "      <td>1</td>\n",
       "      <td>0</td>\n",
       "      <td>0</td>\n",
       "      <td>0</td>\n",
       "      <td>0</td>\n",
       "      <td>0</td>\n",
       "      <td>0</td>\n",
       "      <td>0</td>\n",
       "    </tr>\n",
       "  </tbody>\n",
       "</table>\n",
       "</div>"
      ],
      "text/plain": [
       "   Total_exp   Age  Destination_55 Cancri e  Destination_PSO J318.5-22  \\\n",
       "0        0.0  39.0                        0                          0   \n",
       "1      736.0  24.0                        0                          0   \n",
       "2    10383.0  58.0                        0                          0   \n",
       "\n",
       "   Destination_TRAPPIST-1e  HomePlanet_Earth  HomePlanet_Europa  \\\n",
       "0                        1                 0                  1   \n",
       "1                        1                 1                  0   \n",
       "2                        1                 0                  1   \n",
       "\n",
       "   HomePlanet_Mars  CryoSleep_False  CryoSleep_True  Cabin_deck_A  \\\n",
       "0                0                1               0             0   \n",
       "1                0                1               0             0   \n",
       "2                0                1               0             1   \n",
       "\n",
       "   Cabin_deck_B  Cabin_deck_C  Cabin_deck_D  Cabin_deck_E  Cabin_deck_F  \\\n",
       "0             1             0             0             0             0   \n",
       "1             0             0             0             0             1   \n",
       "2             0             0             0             0             0   \n",
       "\n",
       "   Cabin_deck_G  Cabin_deck_T  \n",
       "0             0             0  \n",
       "1             0             0  \n",
       "2             0             0  "
      ]
     },
     "execution_count": 437,
     "metadata": {},
     "output_type": "execute_result"
    }
   ],
   "source": [
    "# Define the target variable and the explanatory variables\n",
    "target = 'Transported'\n",
    "explanatory_vars =['Total_exp', 'Age','HomePlanet','Destination','CryoSleep','Cabin_deck']\n",
    "\n",
    "\n",
    "cols_to_dummy = ['Destination', 'HomePlanet','CryoSleep','Cabin_deck'] #Variables passed for being converted to dummy variables\n",
    "X_dummies = pd.get_dummies(sp_ti_wona[cols_to_dummy], columns=cols_to_dummy)\n",
    "\n",
    "X_dummies=X_dummies.reset_index(drop=True)\n",
    "\n",
    "X_dummies = pd.get_dummies(sp_ti_wona[cols_to_dummy], columns=cols_to_dummy)\n",
    "continuous_vars=sp_ti_wona.loc[:,['Total_exp', 'Age']]\n",
    "\n",
    "# Concat the dummy columnn with the continuous variables\n",
    "X=pd.concat([continuous_vars,X_dummies],axis=1)\n",
    "X.head(3)\n"
   ]
  },
  {
   "cell_type": "code",
   "execution_count": 438,
   "id": "63a17479",
   "metadata": {},
   "outputs": [],
   "source": [
    "#Removing the special characters from the column names\n",
    "current_cols=X.columns\n",
    "new_cols = [col.replace(\"-\", \"\").replace(\":\", \"\").replace(\" \", \"_\").replace(\".\", \"_\") for col in current_cols]\n",
    "\n",
    "# Assign the new column names to the dataframe\n",
    "X.columns = new_cols"
   ]
  },
  {
   "cell_type": "code",
   "execution_count": 439,
   "id": "7ff0225c",
   "metadata": {
    "scrolled": true
   },
   "outputs": [
    {
     "data": {
      "text/plain": [
       "DecisionTreeClassifier(max_depth=4, min_samples_split=20)"
      ]
     },
     "execution_count": 439,
     "metadata": {},
     "output_type": "execute_result"
    }
   ],
   "source": [
    "#Split the dataset into train and test based on the explanatory and target variables\n",
    "# Train- 80% , Test -20%\n",
    "X_train, X_test, y_train, y_test = train_test_split(X, sp_ti_wona[target], test_size=0.2, random_state=42)\n",
    "\n",
    "# Build the classification tree\n",
    "clf = DecisionTreeClassifier(max_depth=4,min_samples_split=20)\n",
    "clf.fit(X_train, y_train)\n"
   ]
  },
  {
   "cell_type": "markdown",
   "id": "9b69c02f",
   "metadata": {},
   "source": [
    "Decision tree classifier is instantiated with a maximum depth of 4 and a minimum number of samples required to split an internal node of 20.Setting the maximum depth of a decision tree helps to prevent overfitting by limiting the depth of the tree. When the tree is too deep, it cannot generalize well to new data.Setting the min_samples_split parameter helps to avoid overfitting by specifying the minimum number of samples required to split an internal node. "
   ]
  },
  {
   "cell_type": "markdown",
   "id": "5ecb2a14",
   "metadata": {},
   "source": [
    "### Displaying  the confusion matrix"
   ]
  },
  {
   "cell_type": "code",
   "execution_count": 440,
   "id": "fe715e6e",
   "metadata": {},
   "outputs": [
    {
     "data": {
      "image/png": "[encoded data removed]",
      "text/plain": [
       "<Figure size 216x216 with 2 Axes>"
      ]
     },
     "metadata": {
      "needs_background": "light"
     },
     "output_type": "display_data"
    },
    {
     "name": "stdout",
     "output_type": "stream",
     "text": [
      "Accuracy:  0.7391573729863693\n"
     ]
    }
   ],
   "source": [
    "\n",
    "y_pred = clf.predict(X_test)\n",
    "cm = confusion_matrix(y_test, y_pred)\n",
    "plt.figure(figsize=(3,3))\n",
    "sns.heatmap(cm, annot=True, cmap='Blues', fmt='g')\n",
    "plt.xlabel('Predicted')\n",
    "plt.ylabel('Actual')\n",
    "plt.show()\n",
    "# Calculate accuracy, precision, and recall\n",
    "accuracy = accuracy_score(y_test, y_pred)\n",
    "print('Accuracy: ', accuracy)\n"
   ]
  },
  {
   "cell_type": "markdown",
   "id": "dc0b8925",
   "metadata": {},
   "source": [
    "### Plotting the decision tree"
   ]
  },
  {
   "cell_type": "code",
   "execution_count": 441,
   "id": "3d9a48c0",
   "metadata": {},
   "outputs": [
    {
     "name": "stdout",
     "output_type": "stream",
     "text": [
      "|--- Total_exp <= 0.50\n",
      "|   |--- HomePlanet_Earth <= 0.50\n",
      "|   |   |--- Cabin_deck_E <= 0.50\n",
      "|   |   |   |--- CryoSleep_True <= 0.50\n",
      "|   |   |   |   |--- class: True\n",
      "|   |   |   |--- CryoSleep_True >  0.50\n",
      "|   |   |   |   |--- class: True\n",
      "|   |   |--- Cabin_deck_E >  0.50\n",
      "|   |   |   |--- HomePlanet_Europa <= 0.50\n",
      "|   |   |   |   |--- class: False\n",
      "|   |   |   |--- HomePlanet_Europa >  0.50\n",
      "|   |   |   |   |--- class: True\n",
      "|   |--- HomePlanet_Earth >  0.50\n",
      "|   |   |--- Destination_TRAPPIST1e <= 0.50\n",
      "|   |   |   |--- Age <= 42.50\n",
      "|   |   |   |   |--- class: True\n",
      "|   |   |   |--- Age >  42.50\n",
      "|   |   |   |   |--- class: False\n",
      "|   |   |--- Destination_TRAPPIST1e >  0.50\n",
      "|   |   |   |--- CryoSleep_True <= 0.50\n",
      "|   |   |   |   |--- class: False\n",
      "|   |   |   |--- CryoSleep_True >  0.50\n",
      "|   |   |   |   |--- class: True\n",
      "|--- Total_exp >  0.50\n",
      "|   |--- Cabin_deck_C <= 0.50\n",
      "|   |   |--- HomePlanet_Mars <= 0.50\n",
      "|   |   |   |--- Cabin_deck_B <= 0.50\n",
      "|   |   |   |   |--- class: False\n",
      "|   |   |   |--- Cabin_deck_B >  0.50\n",
      "|   |   |   |   |--- class: False\n",
      "|   |   |--- HomePlanet_Mars >  0.50\n",
      "|   |   |   |--- Destination_TRAPPIST1e <= 0.50\n",
      "|   |   |   |   |--- class: False\n",
      "|   |   |   |--- Destination_TRAPPIST1e >  0.50\n",
      "|   |   |   |   |--- class: False\n",
      "|   |--- Cabin_deck_C >  0.50\n",
      "|   |   |--- Total_exp <= 5317.00\n",
      "|   |   |   |--- Age <= 64.00\n",
      "|   |   |   |   |--- class: True\n",
      "|   |   |   |--- Age >  64.00\n",
      "|   |   |   |   |--- class: False\n",
      "|   |   |--- Total_exp >  5317.00\n",
      "|   |   |   |--- Age <= 29.50\n",
      "|   |   |   |   |--- class: False\n",
      "|   |   |   |--- Age >  29.50\n",
      "|   |   |   |   |--- class: False\n",
      "\n"
     ]
    }
   ],
   "source": [
    "from sklearn.tree import export_text\n",
    "# display the decision tree in text format\n",
    "tree_rules = export_text(clf, feature_names=list(X_train.columns))\n",
    "print(tree_rules)"
   ]
  },
  {
   "cell_type": "markdown",
   "id": "7d9518a4",
   "metadata": {},
   "source": [
    "Filtering the dataframe for the cases where the predictions matched then trace that down the tree based on the row values "
   ]
  },
  {
   "cell_type": "code",
   "execution_count": null,
   "id": "5bb718c0",
   "metadata": {},
   "outputs": [],
   "source": [
    "match_indices = np.where(np.array(y_test) == y_pred)[0]\n",
    "#match_cases = X_test[match_indices]\n",
    "match_indices"
   ]
  },
  {
   "cell_type": "markdown",
   "id": "e9c149be",
   "metadata": {},
   "source": [
    "### Tracing down the decision tree for two samples from test set"
   ]
  },
  {
   "cell_type": "markdown",
   "id": "b94e6d4a",
   "metadata": {},
   "source": [
    "#### Passenger e.g. 1:"
   ]
  },
  {
   "cell_type": "code",
   "execution_count": 442,
   "id": "1a96933e",
   "metadata": {
    "scrolled": true
   },
   "outputs": [
    {
     "data": {
      "text/plain": [
       "Total_exp                   1997.0\n",
       "Age                           17.0\n",
       "Destination_55_Cancri_e        0.0\n",
       "Destination_PSO_J318_522       0.0\n",
       "Destination_TRAPPIST1e         1.0\n",
       "HomePlanet_Earth               1.0\n",
       "HomePlanet_Europa              0.0\n",
       "HomePlanet_Mars                0.0\n",
       "CryoSleep_False                1.0\n",
       "CryoSleep_True                 0.0\n",
       "Cabin_deck_A                   0.0\n",
       "Cabin_deck_B                   0.0\n",
       "Cabin_deck_C                   0.0\n",
       "Cabin_deck_D                   0.0\n",
       "Cabin_deck_E                   0.0\n",
       "Cabin_deck_F                   1.0\n",
       "Cabin_deck_G                   0.0\n",
       "Cabin_deck_T                   0.0\n",
       "Name: 2309, dtype: float64"
      ]
     },
     "execution_count": 442,
     "metadata": {},
     "output_type": "execute_result"
    }
   ],
   "source": [
    "#! sample from the test data tracing it down the tree\n",
    "X_test.loc[2309,:]"
   ]
  },
  {
   "cell_type": "markdown",
   "id": "771b7ba3",
   "metadata": {},
   "source": [
    "- The passenger's expenditure value is 1997, which leads them to the branch where the total expenditure is higher than 0.5.\n",
    "- In the second level, it is checked whether the passenger is traveling in deck \"C,\" which is false.\n",
    "- Then it is checked if the passenger's home planet is Mars, which is also false.\n",
    "- Further down, after checking whether the passenger is traveling in deck C, it is recorded that the passenger transportation was not successful"
   ]
  },
  {
   "cell_type": "markdown",
   "id": "b208c81f",
   "metadata": {},
   "source": [
    "#### Passenger e.g. 2:"
   ]
  },
  {
   "cell_type": "code",
   "execution_count": 447,
   "id": "7706b4dd",
   "metadata": {
    "scrolled": true
   },
   "outputs": [
    {
     "data": {
      "text/plain": [
       "Total_exp                    0.0\n",
       "Age                         32.0\n",
       "Destination_55_Cancri_e      1.0\n",
       "Destination_PSO_J318_522     0.0\n",
       "Destination_TRAPPIST1e       0.0\n",
       "HomePlanet_Earth             0.0\n",
       "HomePlanet_Europa            1.0\n",
       "HomePlanet_Mars              0.0\n",
       "CryoSleep_False              0.0\n",
       "CryoSleep_True               1.0\n",
       "Cabin_deck_A                 0.0\n",
       "Cabin_deck_B                 1.0\n",
       "Cabin_deck_C                 0.0\n",
       "Cabin_deck_D                 0.0\n",
       "Cabin_deck_E                 0.0\n",
       "Cabin_deck_F                 0.0\n",
       "Cabin_deck_G                 0.0\n",
       "Cabin_deck_T                 0.0\n",
       "Name: 804, dtype: float64"
      ]
     },
     "execution_count": 447,
     "metadata": {},
     "output_type": "execute_result"
    }
   ],
   "source": [
    "X_test.loc[804,:]"
   ]
  },
  {
   "cell_type": "markdown",
   "id": "da6835f6",
   "metadata": {},
   "source": [
    "- The passenger's expenditure value is 0, which leads them to the branch where the total expenditure is lesser than 0.5.\n",
    "- In the second level, it is checked whether passenger's home planet is Earth, which is false.\n",
    "- Then it is checked whether the passenger is traveling in deck \"E\" which is false.\n",
    "- Further down, after checking whether the passenger has elected for cryosleep, it is recorded that the passenger transportation was  successful"
   ]
  },
  {
   "cell_type": "code",
   "execution_count": 205,
   "id": "d67318df",
   "metadata": {
    "scrolled": true
   },
   "outputs": [
    {
     "data": {
      "text/plain": [
       "array([    2,    12,    14, ..., 20690, 20698, 20708], dtype=int64)"
      ]
     },
     "execution_count": 205,
     "metadata": {},
     "output_type": "execute_result"
    }
   ],
   "source": [
    "np.sort(y_test.index)"
   ]
  },
  {
   "cell_type": "code",
   "execution_count": 214,
   "id": "c381f6a6",
   "metadata": {},
   "outputs": [],
   "source": [
    "fig.savefig(\"decistion_tree_f.png\")"
   ]
  },
  {
   "cell_type": "markdown",
   "id": "aa360b07",
   "metadata": {},
   "source": [
    "\n",
    "\n",
    "# Build another model using one of the continuous variables from your six most important. This time use your model selection and dimension reduction tools, and include at least one non-linear term. (Mandatory)\n"
   ]
  },
  {
   "cell_type": "markdown",
   "id": "217b0006",
   "metadata": {},
   "source": [
    "The objective here is to predict the age of the passenger based on 'Destination','Cabin_deck','VIP','HomePlanet',Total expenditure variables."
   ]
  },
  {
   "cell_type": "code",
   "execution_count": 450,
   "id": "a1312c77",
   "metadata": {},
   "outputs": [],
   "source": [
    "sp_ti_age_pred=sp_ti_wona #[sp_ti_wona[\"CryoSleep\"]==False]\n",
    "sp_ti_age_pred=sp_ti_age_pred.reset_index(drop=True)"
   ]
  },
  {
   "cell_type": "markdown",
   "id": "00d05aa3",
   "metadata": {},
   "source": [
    "The data is right skewed.Log transform is used to linearize a relationship between variables, reduce skewness, and normalize the distribution of the data. On the other hand, StandardScaler is used to standardize the scale of the data, which is important in many machine learning algorithms to prevent features with larger scales from dominating the model.These two steps are applied to the total expenditure feature"
   ]
  },
  {
   "cell_type": "code",
   "execution_count": 584,
   "id": "77ff9b3a",
   "metadata": {
    "scrolled": true
   },
   "outputs": [
    {
     "data": {
      "text/plain": [
       "Index(['PassengerId', 'HomePlanet', 'CryoSleep', 'Cabin', 'Destination', 'Age',\n",
       "       'VIP', 'RoomService', 'FoodCourt', 'ShoppingMall', 'Spa', 'VRDeck',\n",
       "       'Name', 'Transported', 'Group', 'Group_size', 'Cabin_deck', 'Num',\n",
       "       'Side', 'Single', 'Total_exp', 'spend_flag', 'Log_tot_exp'],\n",
       "      dtype='object')"
      ]
     },
     "execution_count": 584,
     "metadata": {},
     "output_type": "execute_result"
    }
   ],
   "source": [
    "sp_ti_age_pred.columns"
   ]
  },
  {
   "cell_type": "code",
   "execution_count": 585,
   "id": "d5b9628e",
   "metadata": {},
   "outputs": [],
   "source": [
    "target = 'Age' #Select the target variable\n",
    "explanatory_vars =['Log_tot_exp','Destination','Cabin_deck','HomePlanet','CryoSleep'] #Select the explanatory variables\n",
    "\n",
    "cols_to_dummy = ['Destination','HomePlanet','Side','CryoSleep','Cabin_deck']   \n",
    "#Create one hot encoding of the filtered columns\n",
    "X_dummies = pd.get_dummies(sp_ti_age_pred[cols_to_dummy], columns=cols_to_dummy)\n",
    "continuous_vars=sp_ti_wona.loc[:,['Total_exp']]\n",
    "continuous_vars=continuous_vars.reset_index(drop=True)\n",
    "scaler =  MinMaxScaler()\n",
    " \n",
    "X=pd.concat([continuous_vars,X_dummies],axis=1)\n",
    "X.columns = ['Log_tot_exp'] + list(X.columns[1:]) \n",
    "\n"
   ]
  },
  {
   "cell_type": "code",
   "execution_count": 586,
   "id": "8e4faa7c",
   "metadata": {
    "scrolled": true
   },
   "outputs": [],
   "source": [
    "current_cols=X.columns\n",
    "#Treating the special characters of the  \n",
    "new_cols = [col.replace(\"-\", \"\").replace(\":\", \"\").replace(\" \", \"_\").replace(\".\", \"_\") for col in current_cols]\n",
    "\n",
    "# Assign the new column names to the dataframe\n",
    "X.columns = new_cols"
   ]
  },
  {
   "cell_type": "code",
   "execution_count": 587,
   "id": "446d50c1",
   "metadata": {
    "scrolled": true
   },
   "outputs": [
    {
     "data": {
      "text/html": [
       "<div>\n",
       "<style scoped>\n",
       "    .dataframe tbody tr th:only-of-type {\n",
       "        vertical-align: middle;\n",
       "    }\n",
       "\n",
       "    .dataframe tbody tr th {\n",
       "        vertical-align: top;\n",
       "    }\n",
       "\n",
       "    .dataframe thead th {\n",
       "        text-align: right;\n",
       "    }\n",
       "</style>\n",
       "<table border=\"1\" class=\"dataframe\">\n",
       "  <thead>\n",
       "    <tr style=\"text-align: right;\">\n",
       "      <th></th>\n",
       "      <th>0</th>\n",
       "      <th>1</th>\n",
       "      <th>2</th>\n",
       "      <th>3</th>\n",
       "      <th>4</th>\n",
       "      <th>5</th>\n",
       "      <th>6</th>\n",
       "      <th>7</th>\n",
       "      <th>8</th>\n",
       "      <th>9</th>\n",
       "      <th>10</th>\n",
       "      <th>11</th>\n",
       "      <th>12</th>\n",
       "      <th>13</th>\n",
       "      <th>14</th>\n",
       "      <th>15</th>\n",
       "      <th>16</th>\n",
       "      <th>17</th>\n",
       "      <th>18</th>\n",
       "    </tr>\n",
       "  </thead>\n",
       "  <tbody>\n",
       "    <tr>\n",
       "      <th>0</th>\n",
       "      <td>0.000000</td>\n",
       "      <td>0.0</td>\n",
       "      <td>0.0</td>\n",
       "      <td>1.0</td>\n",
       "      <td>0.0</td>\n",
       "      <td>1.0</td>\n",
       "      <td>0.0</td>\n",
       "      <td>1.0</td>\n",
       "      <td>0.0</td>\n",
       "      <td>1.0</td>\n",
       "      <td>0.0</td>\n",
       "      <td>0.0</td>\n",
       "      <td>1.0</td>\n",
       "      <td>0.0</td>\n",
       "      <td>0.0</td>\n",
       "      <td>0.0</td>\n",
       "      <td>0.0</td>\n",
       "      <td>0.0</td>\n",
       "      <td>0.0</td>\n",
       "    </tr>\n",
       "    <tr>\n",
       "      <th>1</th>\n",
       "      <td>0.020452</td>\n",
       "      <td>0.0</td>\n",
       "      <td>0.0</td>\n",
       "      <td>1.0</td>\n",
       "      <td>1.0</td>\n",
       "      <td>0.0</td>\n",
       "      <td>0.0</td>\n",
       "      <td>0.0</td>\n",
       "      <td>1.0</td>\n",
       "      <td>1.0</td>\n",
       "      <td>0.0</td>\n",
       "      <td>0.0</td>\n",
       "      <td>0.0</td>\n",
       "      <td>0.0</td>\n",
       "      <td>0.0</td>\n",
       "      <td>0.0</td>\n",
       "      <td>1.0</td>\n",
       "      <td>0.0</td>\n",
       "      <td>0.0</td>\n",
       "    </tr>\n",
       "    <tr>\n",
       "      <th>2</th>\n",
       "      <td>0.288521</td>\n",
       "      <td>0.0</td>\n",
       "      <td>0.0</td>\n",
       "      <td>1.0</td>\n",
       "      <td>0.0</td>\n",
       "      <td>1.0</td>\n",
       "      <td>0.0</td>\n",
       "      <td>0.0</td>\n",
       "      <td>1.0</td>\n",
       "      <td>1.0</td>\n",
       "      <td>0.0</td>\n",
       "      <td>1.0</td>\n",
       "      <td>0.0</td>\n",
       "      <td>0.0</td>\n",
       "      <td>0.0</td>\n",
       "      <td>0.0</td>\n",
       "      <td>0.0</td>\n",
       "      <td>0.0</td>\n",
       "      <td>0.0</td>\n",
       "    </tr>\n",
       "  </tbody>\n",
       "</table>\n",
       "</div>"
      ],
      "text/plain": [
       "         0    1    2    3    4    5    6    7    8    9    10   11   12   13  \\\n",
       "0  0.000000  0.0  0.0  1.0  0.0  1.0  0.0  1.0  0.0  1.0  0.0  0.0  1.0  0.0   \n",
       "1  0.020452  0.0  0.0  1.0  1.0  0.0  0.0  0.0  1.0  1.0  0.0  0.0  0.0  0.0   \n",
       "2  0.288521  0.0  0.0  1.0  0.0  1.0  0.0  0.0  1.0  1.0  0.0  1.0  0.0  0.0   \n",
       "\n",
       "    14   15   16   17   18  \n",
       "0  0.0  0.0  0.0  0.0  0.0  \n",
       "1  0.0  0.0  1.0  0.0  0.0  \n",
       "2  0.0  0.0  0.0  0.0  0.0  "
      ]
     },
     "execution_count": 587,
     "metadata": {},
     "output_type": "execute_result"
    }
   ],
   "source": [
    "X=pd.DataFrame(scaler.fit_transform(X))\n",
    "\n",
    "#X['Total_exp']=X['Total_exp']**1/3\n",
    "X.head(3)"
   ]
  },
  {
   "cell_type": "code",
   "execution_count": 588,
   "id": "261d87d3",
   "metadata": {},
   "outputs": [],
   "source": [
    "y=(sp_ti_age_pred[target].values)\n",
    "X_train, X_test, y_train, y_test, train_indices, test_indices = train_test_split((X), y, range(len(y)), test_size=0.15, random_state=42, shuffle=True)"
   ]
  },
  {
   "cell_type": "code",
   "execution_count": 613,
   "id": "9a5ceb9d",
   "metadata": {},
   "outputs": [],
   "source": [
    "#import statsmodels \n",
    "#exog = statsmodels.tools.tools.add_constant(X_train)\n",
    "#endog=statsmodels.tools.tools.add_constant(y_train)\n",
    "\n",
    "exog, endog = (X_train), y_train \n"
   ]
  },
  {
   "cell_type": "code",
   "execution_count": 614,
   "id": "784aff30",
   "metadata": {
    "scrolled": true
   },
   "outputs": [],
   "source": [
    "#GLM being used here is a Tweedie model with a variance power of 1.5.\n",
    "#Tweedie distribution is a flexible family of distributions that can model dispersed dataset\n",
    "gamma_model = sm.GLM(endog, exog, family=sm.families.Tweedie(var_power=1.5))\n",
    "gamma_results = gamma_model.fit()\n"
   ]
  },
  {
   "cell_type": "code",
   "execution_count": 615,
   "id": "6a90055b",
   "metadata": {},
   "outputs": [
    {
     "name": "stdout",
     "output_type": "stream",
     "text": [
      "                 Generalized Linear Model Regression Results                  \n",
      "==============================================================================\n",
      "Dep. Variable:                      y   No. Observations:                 6856\n",
      "Model:                            GLM   Df Residuals:                     6841\n",
      "Model Family:                 Tweedie   Df Model:                           14\n",
      "Link Function:                    Log   Scale:                          1.3302\n",
      "Method:                          IRLS   Log-Likelihood:                    nan\n",
      "Date:                Sun, 23 Apr 2023   Deviance:                       11680.\n",
      "Time:                        23:44:42   Pearson chi2:                 9.10e+03\n",
      "No. Iterations:                   100   Pseudo R-squ. (CS):                nan\n",
      "Covariance Type:            nonrobust                                         \n",
      "==============================================================================\n",
      "                 coef    std err          z      P>|z|      [0.025      0.975]\n",
      "------------------------------------------------------------------------------\n",
      "0              0.4551      0.090      5.034      0.000       0.278       0.632\n",
      "1              0.5756      0.013     43.922      0.000       0.550       0.601\n",
      "2              0.6928      0.017     41.452      0.000       0.660       0.726\n",
      "3              0.6353      0.010     61.957      0.000       0.615       0.655\n",
      "4              0.5871      0.019     30.213      0.000       0.549       0.625\n",
      "5              0.7033      0.024     29.029      0.000       0.656       0.751\n",
      "6              0.6133      0.017     36.421      0.000       0.580       0.646\n",
      "7              0.9530      0.011     88.798      0.000       0.932       0.974\n",
      "8              0.9507      0.011     87.884      0.000       0.929       0.972\n",
      "9              0.9736      0.012     82.237      0.000       0.950       0.997\n",
      "10             0.9301      0.012     76.054      0.000       0.906       0.954\n",
      "11             0.2916      0.043      6.783      0.000       0.207       0.376\n",
      "12             0.2564      0.036      7.061      0.000       0.185       0.328\n",
      "13             0.2711      0.036      7.432      0.000       0.200       0.343\n",
      "14             0.2956      0.036      8.211      0.000       0.225       0.366\n",
      "15             0.2293      0.035      6.478      0.000       0.160       0.299\n",
      "16             0.1909      0.036      5.359      0.000       0.121       0.261\n",
      "17             0.0477      0.038      1.242      0.214      -0.028       0.123\n",
      "18             0.3211      0.206      1.557      0.119      -0.083       0.725\n",
      "==============================================================================\n"
     ]
    }
   ],
   "source": [
    "#Printing the model summary\n",
    "print(gamma_results.summary())\n"
   ]
  },
  {
   "cell_type": "code",
   "execution_count": 616,
   "id": "9f79c22e",
   "metadata": {},
   "outputs": [
    {
     "name": "stdout",
     "output_type": "stream",
     "text": [
      "Significant features: Int64Index([0, 1, 2, 3, 4, 5, 6, 7, 8, 9, 10, 11, 12, 13, 14, 15, 16], dtype='int64')\n"
     ]
    }
   ],
   "source": [
    "\n",
    "p_values = gamma_results.pvalues # Get the p-values from the gamma_results object\n",
    "\n",
    "feature_names = X_train.columns # Get the feature names from the exog DataFrame\n",
    "significant_indices = np.where(p_values < 0.05)[0] # Find the indices of the significant features (p < 0.05)\n",
    "significant_features = feature_names[significant_indices] # Get the names of the significant features\n",
    "\n",
    "print(\"Significant features:\", significant_features) # Print the names of the significant features\n",
    "\n"
   ]
  },
  {
   "cell_type": "code",
   "execution_count": 617,
   "id": "9410280a",
   "metadata": {},
   "outputs": [
    {
     "name": "stdout",
     "output_type": "stream",
     "text": [
      "['Log_tot_exp', 'Destination_55_Cancri_e', 'Destination_PSO_J318_522', 'Destination_TRAPPIST1e', 'HomePlanet_Earth', 'HomePlanet_Europa', 'HomePlanet_Mars', 'Side_P', 'Side_S', 'CryoSleep_False', 'CryoSleep_True', 'Cabin_deck_A', 'Cabin_deck_B', 'Cabin_deck_C', 'Cabin_deck_D', 'Cabin_deck_E', 'Cabin_deck_F']\n"
     ]
    }
   ],
   "source": [
    "significant_features\n",
    "significant_features_1 = [new_cols[i] for i in significant_features]\n",
    "print(significant_features_1)"
   ]
  },
  {
   "cell_type": "markdown",
   "id": "ff0be162",
   "metadata": {},
   "source": [
    "### Model assessment"
   ]
  },
  {
   "cell_type": "code",
   "execution_count": 618,
   "id": "5c3629b2",
   "metadata": {},
   "outputs": [
    {
     "name": "stdout",
     "output_type": "stream",
     "text": [
      "Mean squared error: 172.79504191979424\n"
     ]
    },
    {
     "data": {
      "text/plain": [
       "0.08301402869315067"
      ]
     },
     "execution_count": 618,
     "metadata": {},
     "output_type": "execute_result"
    }
   ],
   "source": [
    "# Predict on test set\n",
    "y_pred = gamma_results.predict(X_test)\n",
    "\n",
    "# Cap y_test at 1\n",
    "y_test_exp =( y_test)\n",
    "y_test_exp[y_test == 0] = 1\n",
    "\n",
    "# Generate predictions on test set\n",
    "y_pred =(gamma_results.predict(X_test))\n",
    "\n",
    "# Compute mean squared error\n",
    "mse = np.mean((y_pred - y_test_exp)**2)\n",
    "print(\"Mean squared error:\", mse)\n",
    "\n",
    "r2_score(y_test_exp, y_pred)\n"
   ]
  },
  {
   "cell_type": "code",
   "execution_count": 619,
   "id": "f054c0f7",
   "metadata": {},
   "outputs": [
    {
     "name": "stdout",
     "output_type": "stream",
     "text": [
      "Mean Absolute Percentage Error: 129.53959049413507\n"
     ]
    }
   ],
   "source": [
    "\n",
    "# Compute MAPE\n",
    "mape = 100 * np.mean(np.abs((y_test_exp - y_pred) / y_test_exp))\n",
    "print(\"Mean Absolute Percentage Error:\", mape)\n"
   ]
  },
  {
   "cell_type": "code",
   "execution_count": 620,
   "id": "937e5933",
   "metadata": {},
   "outputs": [
    {
     "data": {
      "text/plain": [
       "<AxesSubplot: >"
      ]
     },
     "execution_count": 620,
     "metadata": {},
     "output_type": "execute_result"
    },
    {
     "data": {
      "image/png": "[encoded data removed]",
      "text/plain": [
       "<Figure size 432x288 with 1 Axes>"
      ]
     },
     "metadata": {
      "needs_background": "light"
     },
     "output_type": "display_data"
    }
   ],
   "source": [
    "# Compute residuals\n",
    "residuals = y_test_exp - y_pred\n",
    "\n",
    "# Plot residuals\n",
    "sns.residplot(x=y_pred, y=residuals, lowess=True, color=\"b\")"
   ]
  },
  {
   "cell_type": "markdown",
   "id": "ade69387",
   "metadata": {},
   "source": [
    "### Model selection\n"
   ]
  },
  {
   "cell_type": "code",
   "execution_count": 621,
   "id": "409e9808",
   "metadata": {
    "scrolled": true
   },
   "outputs": [
    {
     "name": "stdout",
     "output_type": "stream",
     "text": [
      "Removing feature '17' with p-value 0.2142442506263077\n",
      "Removing feature '18' with p-value 0.2464772019930901\n",
      "                 Generalized Linear Model Regression Results                  \n",
      "==============================================================================\n",
      "Dep. Variable:                      y   No. Observations:                 6856\n",
      "Model:                            GLM   Df Residuals:                     6842\n",
      "Model Family:                 Tweedie   Df Model:                           13\n",
      "Link Function:                    Log   Scale:                          1.3257\n",
      "Method:                          IRLS   Log-Likelihood:                    nan\n",
      "Date:                Sun, 23 Apr 2023   Deviance:                       11682.\n",
      "Time:                        23:44:51   Pearson chi2:                 9.10e+03\n",
      "No. Iterations:                   100   Pseudo R-squ. (CS):                nan\n",
      "Covariance Type:            nonrobust                                         \n",
      "==============================================================================\n",
      "                 coef    std err          z      P>|z|      [0.025      0.975]\n",
      "------------------------------------------------------------------------------\n",
      "0              0.4523      0.091      4.997      0.000       0.275       0.630\n",
      "1              0.5858      0.013     46.405      0.000       0.561       0.611\n",
      "2              0.7032      0.016     43.380      0.000       0.671       0.735\n",
      "3              0.6457      0.009     70.371      0.000       0.628       0.664\n",
      "4              0.5941      0.014     42.873      0.000       0.567       0.621\n",
      "5              0.7185      0.028     25.899      0.000       0.664       0.773\n",
      "6              0.6221      0.015     42.794      0.000       0.594       0.651\n",
      "7              0.9686      0.009    108.394      0.000       0.951       0.986\n",
      "8              0.9661      0.009    108.336      0.000       0.949       0.984\n",
      "9              0.9897      0.012     82.100      0.000       0.966       1.013\n",
      "10             0.9450      0.008    112.225      0.000       0.929       0.962\n",
      "11             0.2351      0.053      4.467      0.000       0.132       0.338\n",
      "12             0.2000      0.045      4.457      0.000       0.112       0.288\n",
      "13             0.2147      0.045      4.739      0.000       0.126       0.303\n",
      "14             0.2426      0.036      6.659      0.000       0.171       0.314\n",
      "15             0.1786      0.026      6.901      0.000       0.128       0.229\n",
      "16             0.1414      0.019      7.481      0.000       0.104       0.178\n",
      "==============================================================================\n"
     ]
    }
   ],
   "source": [
    "# Start backward elimination\n",
    "while True:\n",
    "    # Get the p-values of the current model\n",
    "    p_values = gamma_results.pvalues[1:]\n",
    "    # Find the feature with the highest p-value\n",
    "    feature_to_remove = p_values.idxmax()\n",
    "    # If the highest p-value is above the significance level (e.g., 0.05), remove the feature\n",
    "    if p_values.max() > 0.05:\n",
    "        print(f\"Removing feature '{feature_to_remove}' with p-value {p_values[feature_to_remove]}\")\n",
    "        exog = exog.drop(columns=[feature_to_remove])\n",
    "        gamma_model = sm.GLM(endog, exog, family=sm.families.Tweedie(var_power=1.5))\n",
    "        gamma_results = gamma_model.fit()\n",
    "    # If the highest p-value is below the significance level, stop the elimination process\n",
    "    else:\n",
    "        break\n",
    "\n",
    "# Print the summary of the final model\n",
    "print(gamma_results.summary())"
   ]
  },
  {
   "cell_type": "code",
   "execution_count": 622,
   "id": "5c2523c6",
   "metadata": {},
   "outputs": [
    {
     "name": "stdout",
     "output_type": "stream",
     "text": [
      "Significant features: [0, 1, 2, 3, 4, 5, 6, 7, 8, 9, 10, 11, 12, 13, 14, 15, 16]\n",
      "['Log_tot_exp', 'Destination_55_Cancri_e', 'Destination_PSO_J318_522', 'Destination_TRAPPIST1e', 'HomePlanet_Earth', 'HomePlanet_Europa', 'HomePlanet_Mars', 'Side_P', 'Side_S', 'CryoSleep_False', 'CryoSleep_True', 'Cabin_deck_A', 'Cabin_deck_B', 'Cabin_deck_C', 'Cabin_deck_D', 'Cabin_deck_E', 'Cabin_deck_F']\n"
     ]
    }
   ],
   "source": [
    "significant_features = exog.columns.tolist()\n",
    "print(\"Significant features:\", significant_features)\n",
    "significant_features\n",
    "significant_features_1 = [new_cols[i] for i in significant_features]\n",
    "print(significant_features_1)"
   ]
  },
  {
   "cell_type": "code",
   "execution_count": 626,
   "id": "0c5f7758",
   "metadata": {},
   "outputs": [
    {
     "name": "stdout",
     "output_type": "stream",
     "text": [
      "Mean squared error: 172.7938525802787\n"
     ]
    },
    {
     "data": {
      "text/plain": [
       "0.08302034026111438"
      ]
     },
     "execution_count": 626,
     "metadata": {},
     "output_type": "execute_result"
    }
   ],
   "source": [
    "# Predict on test set\n",
    "y_pred = gamma_results.predict(X_test[significant_features])\n",
    "\n",
    "# Cap y_test at 1\n",
    "y_test_exp =( y_test)\n",
    "y_test_exp[y_test == 0] = 1\n",
    "\n",
    "# Generate predictions on test set\n",
    "y_pred =(gamma_results.predict(X_test[significant_features]))\n",
    "\n",
    "# Compute mean squared error\n",
    "mse = np.mean((y_pred - y_test_exp)**2)\n",
    "print(\"Mean squared error:\", mse)\n",
    "\n",
    "r2_score(y_test_exp, y_pred)\n"
   ]
  },
  {
   "cell_type": "code",
   "execution_count": 625,
   "id": "66cd0166",
   "metadata": {},
   "outputs": [
    {
     "name": "stdout",
     "output_type": "stream",
     "text": [
      "Mean Absolute Percentage Error: 129.61511160657662\n"
     ]
    }
   ],
   "source": [
    "\n",
    "# Compute MAPE\n",
    "mape = 100 * np.mean(np.abs((y_test_exp - y_pred) / y_test_exp))\n",
    "print(\"Mean Absolute Percentage Error:\", mape)\n"
   ]
  },
  {
   "cell_type": "markdown",
   "id": "6f4129b2",
   "metadata": {},
   "source": [
    "No significant improvement in the model performance has been observed after refitting the model on the best features."
   ]
  }
 ],
 "metadata": {
  "kernelspec": {
   "display_name": "Python 3 (ipykernel)",
   "language": "python",
   "name": "python3"
  },
  "language_info": {
   "codemirror_mode": {
    "name": "ipython",
    "version": 3
   },
   "file_extension": ".py",
   "mimetype": "text/x-python",
   "name": "python",
   "nbconvert_exporter": "python",
   "pygments_lexer": "ipython3",
   "version": "3.9.5"
  },
  "toc": {
   "base_numbering": 1,
   "nav_menu": {},
   "number_sections": true,
   "sideBar": true,
   "skip_h1_title": false,
   "title_cell": "Table of Contents",
   "title_sidebar": "Contents",
   "toc_cell": false,
   "toc_position": {
    "height": "calc(100% - 180px)",
    "left": "10px",
    "top": "150px",
    "width": "165px"
   },
   "toc_section_display": true,
   "toc_window_display": true
  },
  "varInspector": {
   "cols": {
    "lenName": 16,
    "lenType": 16,
    "lenVar": 40
   },
   "kernels_config": {
    "python": {
     "delete_cmd_postfix": "",
     "delete_cmd_prefix": "del ",
     "library": "var_list.py",
     "varRefreshCmd": "print(var_dic_list())"
    },
    "r": {
     "delete_cmd_postfix": ") ",
     "delete_cmd_prefix": "rm(",
     "library": "var_list.r",
     "varRefreshCmd": "cat(var_dic_list()) "
    }
   },
   "types_to_exclude": [
    "module",
    "function",
    "builtin_function_or_method",
    "instance",
    "_Feature"
   ],
   "window_display": false
  }
 },
 "nbformat": 4,
 "nbformat_minor": 5
}
